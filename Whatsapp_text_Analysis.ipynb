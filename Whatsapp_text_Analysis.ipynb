{
 "cells": [
  {
   "cell_type": "markdown",
   "id": "903171eb-9c18-4995-9a02-12f9d7352283",
   "metadata": {
    "tags": []
   },
   "source": [
    "# Whatsapp Sentiment Analysis"
   ]
  },
  {
   "cell_type": "markdown",
   "id": "1b11b4d9-e4b3-4f50-b861-a9806602a575",
   "metadata": {},
   "source": [
    "## Imports"
   ]
  },
  {
   "cell_type": "code",
   "execution_count": 97,
   "id": "c0b72f33-80b1-4934-a146-ae0b5b949e66",
   "metadata": {
    "tags": []
   },
   "outputs": [
    {
     "name": "stderr",
     "output_type": "stream",
     "text": [
      "[nltk_data] Downloading package twitter_samples to\n",
      "[nltk_data]     /Users/laurabonnet/nltk_data...\n",
      "[nltk_data]   Package twitter_samples is already up-to-date!\n",
      "[nltk_data] Downloading package averaged_perceptron_tagger to\n",
      "[nltk_data]     /Users/laurabonnet/nltk_data...\n",
      "[nltk_data]   Package averaged_perceptron_tagger is already up-to-\n",
      "[nltk_data]       date!\n",
      "[nltk_data] Downloading package wordnet to\n",
      "[nltk_data]     /Users/laurabonnet/nltk_data...\n",
      "[nltk_data]   Package wordnet is already up-to-date!\n"
     ]
    }
   ],
   "source": [
    "import pandas as pd\n",
    "from nltk.tokenize import word_tokenize\n",
    "from nltk.corpus import stopwords\n",
    "from nltk.stem import WordNetLemmatizer\n",
    "import matplotlib.pyplot as plt\n",
    "# Download twitter data and sentiment analysis model\n",
    "import nltk\n",
    "nltk.download('twitter_samples')\n",
    "nltk.download('averaged_perceptron_tagger')\n",
    "nltk.download('wordnet')\n",
    "from nltk.corpus import twitter_samples\n",
    "\n",
    "import re\n",
    "import string\n",
    "from sklearn.model_selection import train_test_split\n",
    "from sklearn.model_selection import cross_validate"
   ]
  },
  {
   "cell_type": "markdown",
   "id": "6533ff7b-a0b9-4f3e-b3aa-bc28632183ca",
   "metadata": {},
   "source": [
    "## Load Data"
   ]
  },
  {
   "cell_type": "code",
   "execution_count": 98,
   "id": "355ccd5c-c306-471d-aa72-fdcb200383b1",
   "metadata": {},
   "outputs": [
    {
     "data": {
      "text/html": [
       "<div>\n",
       "<style scoped>\n",
       "    .dataframe tbody tr th:only-of-type {\n",
       "        vertical-align: middle;\n",
       "    }\n",
       "\n",
       "    .dataframe tbody tr th {\n",
       "        vertical-align: top;\n",
       "    }\n",
       "\n",
       "    .dataframe thead th {\n",
       "        text-align: right;\n",
       "    }\n",
       "</style>\n",
       "<table border=\"1\" class=\"dataframe\">\n",
       "  <thead>\n",
       "    <tr style=\"text-align: right;\">\n",
       "      <th></th>\n",
       "      <th>Message</th>\n",
       "      <th>length</th>\n",
       "      <th>country</th>\n",
       "      <th>Date</th>\n",
       "    </tr>\n",
       "    <tr>\n",
       "      <th>id</th>\n",
       "      <th></th>\n",
       "      <th></th>\n",
       "      <th></th>\n",
       "      <th></th>\n",
       "    </tr>\n",
       "  </thead>\n",
       "  <tbody>\n",
       "    <tr>\n",
       "      <th>10120</th>\n",
       "      <td>Bugis oso near wat...</td>\n",
       "      <td>21</td>\n",
       "      <td>SG</td>\n",
       "      <td>2003/4</td>\n",
       "    </tr>\n",
       "    <tr>\n",
       "      <th>10121</th>\n",
       "      <td>Go until jurong point, crazy.. Available only ...</td>\n",
       "      <td>111</td>\n",
       "      <td>SG</td>\n",
       "      <td>2003/4</td>\n",
       "    </tr>\n",
       "    <tr>\n",
       "      <th>10122</th>\n",
       "      <td>I dunno until when... Lets go learn pilates...</td>\n",
       "      <td>46</td>\n",
       "      <td>SG</td>\n",
       "      <td>2003/4</td>\n",
       "    </tr>\n",
       "    <tr>\n",
       "      <th>10123</th>\n",
       "      <td>Den only weekdays got special price... Haiz......</td>\n",
       "      <td>140</td>\n",
       "      <td>SG</td>\n",
       "      <td>2003/4</td>\n",
       "    </tr>\n",
       "    <tr>\n",
       "      <th>10124</th>\n",
       "      <td>Meet after lunch la...</td>\n",
       "      <td>22</td>\n",
       "      <td>SG</td>\n",
       "      <td>2003/4</td>\n",
       "    </tr>\n",
       "  </tbody>\n",
       "</table>\n",
       "</div>"
      ],
      "text/plain": [
       "                                                 Message length country  \\\n",
       "id                                                                        \n",
       "10120                              Bugis oso near wat...     21      SG   \n",
       "10121  Go until jurong point, crazy.. Available only ...    111      SG   \n",
       "10122     I dunno until when... Lets go learn pilates...     46      SG   \n",
       "10123  Den only weekdays got special price... Haiz......    140      SG   \n",
       "10124                             Meet after lunch la...     22      SG   \n",
       "\n",
       "         Date  \n",
       "id             \n",
       "10120  2003/4  \n",
       "10121  2003/4  \n",
       "10122  2003/4  \n",
       "10123  2003/4  \n",
       "10124  2003/4  "
      ]
     },
     "execution_count": 98,
     "metadata": {},
     "output_type": "execute_result"
    }
   ],
   "source": [
    "df = pd.read_csv('/Users/laurabonnet/Downloads/clean_nus_sms 2.csv').drop(columns = 'Unnamed: 0').set_index('id')\n",
    "df.head()"
   ]
  },
  {
   "cell_type": "markdown",
   "id": "bd02e10b-808c-4c87-94a9-24bf3743abe5",
   "metadata": {},
   "source": [
    "## Check Data"
   ]
  },
  {
   "cell_type": "markdown",
   "id": "e54e36d9-0318-428a-b789-300464753da2",
   "metadata": {},
   "source": [
    "### Overview"
   ]
  },
  {
   "cell_type": "code",
   "execution_count": 99,
   "id": "e5011a89-2403-4256-9749-fe463d3279cd",
   "metadata": {},
   "outputs": [
    {
     "data": {
      "text/html": [
       "<div>\n",
       "<style scoped>\n",
       "    .dataframe tbody tr th:only-of-type {\n",
       "        vertical-align: middle;\n",
       "    }\n",
       "\n",
       "    .dataframe tbody tr th {\n",
       "        vertical-align: top;\n",
       "    }\n",
       "\n",
       "    .dataframe thead th {\n",
       "        text-align: right;\n",
       "    }\n",
       "</style>\n",
       "<table border=\"1\" class=\"dataframe\">\n",
       "  <thead>\n",
       "    <tr style=\"text-align: right;\">\n",
       "      <th></th>\n",
       "      <th>Message</th>\n",
       "      <th>length</th>\n",
       "      <th>country</th>\n",
       "      <th>Date</th>\n",
       "    </tr>\n",
       "  </thead>\n",
       "  <tbody>\n",
       "    <tr>\n",
       "      <th>count</th>\n",
       "      <td>48595</td>\n",
       "      <td>48598</td>\n",
       "      <td>48598</td>\n",
       "      <td>48598</td>\n",
       "    </tr>\n",
       "    <tr>\n",
       "      <th>unique</th>\n",
       "      <td>48586</td>\n",
       "      <td>470</td>\n",
       "      <td>40</td>\n",
       "      <td>27</td>\n",
       "    </tr>\n",
       "    <tr>\n",
       "      <th>top</th>\n",
       "      <td>Oh</td>\n",
       "      <td>20</td>\n",
       "      <td>Singapore</td>\n",
       "      <td>2011/3</td>\n",
       "    </tr>\n",
       "    <tr>\n",
       "      <th>freq</th>\n",
       "      <td>3</td>\n",
       "      <td>861</td>\n",
       "      <td>22013</td>\n",
       "      <td>10435</td>\n",
       "    </tr>\n",
       "  </tbody>\n",
       "</table>\n",
       "</div>"
      ],
      "text/plain": [
       "       Message length    country    Date\n",
       "count    48595  48598      48598   48598\n",
       "unique   48586    470         40      27\n",
       "top         Oh     20  Singapore  2011/3\n",
       "freq         3    861      22013   10435"
      ]
     },
     "execution_count": 99,
     "metadata": {},
     "output_type": "execute_result"
    }
   ],
   "source": [
    "df.describe()"
   ]
  },
  {
   "cell_type": "code",
   "execution_count": 100,
   "id": "29a53dba-2d7a-4545-adc5-607e720717aa",
   "metadata": {},
   "outputs": [
    {
     "name": "stdout",
     "output_type": "stream",
     "text": [
      "<class 'pandas.core.frame.DataFrame'>\n",
      "Int64Index: 48598 entries, 10120 to 45718\n",
      "Data columns (total 4 columns):\n",
      " #   Column   Non-Null Count  Dtype \n",
      "---  ------   --------------  ----- \n",
      " 0   Message  48595 non-null  object\n",
      " 1   length   48598 non-null  object\n",
      " 2   country  48598 non-null  object\n",
      " 3   Date     48598 non-null  object\n",
      "dtypes: object(4)\n",
      "memory usage: 1.9+ MB\n"
     ]
    }
   ],
   "source": [
    "df.info()"
   ]
  },
  {
   "cell_type": "markdown",
   "id": "cc63b4e9-1348-4bfc-a7c1-414b2c8bbfda",
   "metadata": {},
   "source": [
    "### Check null values"
   ]
  },
  {
   "cell_type": "code",
   "execution_count": 101,
   "id": "4db66157-50a1-4171-accb-f2acede01388",
   "metadata": {},
   "outputs": [
    {
     "data": {
      "text/html": [
       "<div>\n",
       "<style scoped>\n",
       "    .dataframe tbody tr th:only-of-type {\n",
       "        vertical-align: middle;\n",
       "    }\n",
       "\n",
       "    .dataframe tbody tr th {\n",
       "        vertical-align: top;\n",
       "    }\n",
       "\n",
       "    .dataframe thead th {\n",
       "        text-align: right;\n",
       "    }\n",
       "</style>\n",
       "<table border=\"1\" class=\"dataframe\">\n",
       "  <thead>\n",
       "    <tr style=\"text-align: right;\">\n",
       "      <th></th>\n",
       "      <th>Message</th>\n",
       "      <th>length</th>\n",
       "      <th>country</th>\n",
       "      <th>Date</th>\n",
       "    </tr>\n",
       "    <tr>\n",
       "      <th>id</th>\n",
       "      <th></th>\n",
       "      <th></th>\n",
       "      <th></th>\n",
       "      <th></th>\n",
       "    </tr>\n",
       "  </thead>\n",
       "  <tbody>\n",
       "    <tr>\n",
       "      <th>13749</th>\n",
       "      <td>NaN</td>\n",
       "      <td>4</td>\n",
       "      <td>SG</td>\n",
       "      <td>2003/4</td>\n",
       "    </tr>\n",
       "    <tr>\n",
       "      <th>14927</th>\n",
       "      <td>NaN</td>\n",
       "      <td>3</td>\n",
       "      <td>SG</td>\n",
       "      <td>2003/4</td>\n",
       "    </tr>\n",
       "    <tr>\n",
       "      <th>43451</th>\n",
       "      <td>NaN</td>\n",
       "      <td>4</td>\n",
       "      <td>USA</td>\n",
       "      <td>2014/9</td>\n",
       "    </tr>\n",
       "  </tbody>\n",
       "</table>\n",
       "</div>"
      ],
      "text/plain": [
       "      Message length country    Date\n",
       "id                                  \n",
       "13749     NaN      4      SG  2003/4\n",
       "14927     NaN      3      SG  2003/4\n",
       "43451     NaN      4     USA  2014/9"
      ]
     },
     "execution_count": 101,
     "metadata": {},
     "output_type": "execute_result"
    }
   ],
   "source": [
    "df[df['Message'].isnull() == True]"
   ]
  },
  {
   "cell_type": "code",
   "execution_count": 102,
   "id": "fb968bbb-4a7a-4678-b5eb-033d9c344afd",
   "metadata": {},
   "outputs": [],
   "source": [
    "df = df.dropna()"
   ]
  },
  {
   "cell_type": "markdown",
   "id": "06f8e686-34ab-48a2-8e5c-9bad544422ec",
   "metadata": {
    "tags": []
   },
   "source": [
    "### Short Messages"
   ]
  },
  {
   "cell_type": "code",
   "execution_count": 103,
   "id": "3301b72c-13d0-4477-9c8b-406e4c455433",
   "metadata": {
    "tags": []
   },
   "outputs": [],
   "source": [
    "#convert length to float\n",
    "df['length'] = pd.to_numeric(df['length'], errors ='coerce')\n"
   ]
  },
  {
   "cell_type": "code",
   "execution_count": 104,
   "id": "4cc818a7-cdd9-4893-bf02-9dd0125a2e7c",
   "metadata": {},
   "outputs": [],
   "source": [
    "#Only keep messages with more than 3 characters\n",
    "df = df[df['length'] > 3]"
   ]
  },
  {
   "cell_type": "code",
   "execution_count": 105,
   "id": "ea11d6ba-74d0-4715-b810-1d2a3e4ae510",
   "metadata": {},
   "outputs": [
    {
     "data": {
      "text/html": [
       "<div>\n",
       "<style scoped>\n",
       "    .dataframe tbody tr th:only-of-type {\n",
       "        vertical-align: middle;\n",
       "    }\n",
       "\n",
       "    .dataframe tbody tr th {\n",
       "        vertical-align: top;\n",
       "    }\n",
       "\n",
       "    .dataframe thead th {\n",
       "        text-align: right;\n",
       "    }\n",
       "</style>\n",
       "<table border=\"1\" class=\"dataframe\">\n",
       "  <thead>\n",
       "    <tr style=\"text-align: right;\">\n",
       "      <th></th>\n",
       "      <th>Message</th>\n",
       "      <th>length</th>\n",
       "      <th>country</th>\n",
       "      <th>Date</th>\n",
       "    </tr>\n",
       "    <tr>\n",
       "      <th>id</th>\n",
       "      <th></th>\n",
       "      <th></th>\n",
       "      <th></th>\n",
       "      <th></th>\n",
       "    </tr>\n",
       "  </thead>\n",
       "  <tbody>\n",
       "    <tr>\n",
       "      <th>45712</th>\n",
       "      <td>Come to me AFTER NOON</td>\n",
       "      <td>21.0</td>\n",
       "      <td>Serbia</td>\n",
       "      <td>2015/3</td>\n",
       "    </tr>\n",
       "    <tr>\n",
       "      <th>45714</th>\n",
       "      <td>I LOVE YOU TOO</td>\n",
       "      <td>14.0</td>\n",
       "      <td>Serbia</td>\n",
       "      <td>2015/3</td>\n",
       "    </tr>\n",
       "    <tr>\n",
       "      <th>45715</th>\n",
       "      <td>C-YA</td>\n",
       "      <td>4.0</td>\n",
       "      <td>Serbia</td>\n",
       "      <td>2015/3</td>\n",
       "    </tr>\n",
       "    <tr>\n",
       "      <th>45717</th>\n",
       "      <td>BE MY GUEST</td>\n",
       "      <td>11.0</td>\n",
       "      <td>Serbia</td>\n",
       "      <td>2015/3</td>\n",
       "    </tr>\n",
       "    <tr>\n",
       "      <th>45718</th>\n",
       "      <td>MANY MANY MANY PEOPLE</td>\n",
       "      <td>21.0</td>\n",
       "      <td>Serbia</td>\n",
       "      <td>2015/3</td>\n",
       "    </tr>\n",
       "  </tbody>\n",
       "</table>\n",
       "</div>"
      ],
      "text/plain": [
       "                     Message  length country    Date\n",
       "id                                                  \n",
       "45712  Come to me AFTER NOON    21.0  Serbia  2015/3\n",
       "45714         I LOVE YOU TOO    14.0  Serbia  2015/3\n",
       "45715                   C-YA     4.0  Serbia  2015/3\n",
       "45717            BE MY GUEST    11.0  Serbia  2015/3\n",
       "45718  MANY MANY MANY PEOPLE    21.0  Serbia  2015/3"
      ]
     },
     "execution_count": 105,
     "metadata": {},
     "output_type": "execute_result"
    }
   ],
   "source": [
    "df.tail()"
   ]
  },
  {
   "cell_type": "markdown",
   "id": "492c17c8-30a7-4dc0-b730-0ce5b280b010",
   "metadata": {},
   "source": [
    "## Cleaning Text"
   ]
  },
  {
   "cell_type": "code",
   "execution_count": 106,
   "id": "42e03c84-3fff-4019-aa30-a72d47cfffed",
   "metadata": {},
   "outputs": [],
   "source": [
    "#function to remove punctuation, number, stopwords and lemmatize text\n",
    "def remove_urls(text):\n",
    "    url_pattern = re.compile(r'https?://\\S+|www\\.\\S+')\n",
    "    return url_pattern.sub(r'', text)\n",
    "\n",
    "\n",
    "def clean_text(text):\n",
    "    \n",
    "    for punctuation in string.punctuation:\n",
    "        text = text.replace(punctuation, ' ') # Remove Punctuation\n",
    "        \n",
    "    lowercased = text.lower() # Lower Case\n",
    "    lemmatizer = WordNetLemmatizer() \n",
    "    tokenized = word_tokenize(lowercased) # Tokenize\n",
    "    words_only = [word for word in tokenized if word.isalpha()] # Remove numbers\n",
    "    stop_words = set(stopwords.words('English')) # Make stopword list\n",
    "    without_stopwords = [word for word in words_only if not word in stop_words]# Remove Stop Words\n",
    "    lemmatized = [lemmatizer.lemmatize(word) for word in without_stopwords]\n",
    "    \n",
    "    return \" \".join(lemmatized)"
   ]
  },
  {
   "cell_type": "code",
   "execution_count": 107,
   "id": "2957c60b-1952-4d07-b12a-3cad53c3305e",
   "metadata": {
    "tags": []
   },
   "outputs": [],
   "source": [
    "#Cleaning Message\n",
    "df['clean_message']=df['Message'].apply(remove_urls)\n",
    "df['clean_message']=df['Message'].apply(clean_text)"
   ]
  },
  {
   "cell_type": "code",
   "execution_count": 108,
   "id": "39fc078f-57d7-47fb-b28b-575e474d8201",
   "metadata": {},
   "outputs": [
    {
     "data": {
      "text/html": [
       "<div>\n",
       "<style scoped>\n",
       "    .dataframe tbody tr th:only-of-type {\n",
       "        vertical-align: middle;\n",
       "    }\n",
       "\n",
       "    .dataframe tbody tr th {\n",
       "        vertical-align: top;\n",
       "    }\n",
       "\n",
       "    .dataframe thead th {\n",
       "        text-align: right;\n",
       "    }\n",
       "</style>\n",
       "<table border=\"1\" class=\"dataframe\">\n",
       "  <thead>\n",
       "    <tr style=\"text-align: right;\">\n",
       "      <th></th>\n",
       "      <th>Message</th>\n",
       "      <th>length</th>\n",
       "      <th>country</th>\n",
       "      <th>Date</th>\n",
       "      <th>clean_message</th>\n",
       "    </tr>\n",
       "    <tr>\n",
       "      <th>id</th>\n",
       "      <th></th>\n",
       "      <th></th>\n",
       "      <th></th>\n",
       "      <th></th>\n",
       "      <th></th>\n",
       "    </tr>\n",
       "  </thead>\n",
       "  <tbody>\n",
       "    <tr>\n",
       "      <th>10120</th>\n",
       "      <td>Bugis oso near wat...</td>\n",
       "      <td>21.0</td>\n",
       "      <td>SG</td>\n",
       "      <td>2003/4</td>\n",
       "      <td>bugis oso near wat</td>\n",
       "    </tr>\n",
       "    <tr>\n",
       "      <th>10121</th>\n",
       "      <td>Go until jurong point, crazy.. Available only ...</td>\n",
       "      <td>111.0</td>\n",
       "      <td>SG</td>\n",
       "      <td>2003/4</td>\n",
       "      <td>go jurong point crazy available bugis n great ...</td>\n",
       "    </tr>\n",
       "    <tr>\n",
       "      <th>10122</th>\n",
       "      <td>I dunno until when... Lets go learn pilates...</td>\n",
       "      <td>46.0</td>\n",
       "      <td>SG</td>\n",
       "      <td>2003/4</td>\n",
       "      <td>dunno let go learn pilate</td>\n",
       "    </tr>\n",
       "    <tr>\n",
       "      <th>10123</th>\n",
       "      <td>Den only weekdays got special price... Haiz......</td>\n",
       "      <td>140.0</td>\n",
       "      <td>SG</td>\n",
       "      <td>2003/4</td>\n",
       "      <td>den weekday got special price haiz cant eat li...</td>\n",
       "    </tr>\n",
       "    <tr>\n",
       "      <th>10124</th>\n",
       "      <td>Meet after lunch la...</td>\n",
       "      <td>22.0</td>\n",
       "      <td>SG</td>\n",
       "      <td>2003/4</td>\n",
       "      <td>meet lunch la</td>\n",
       "    </tr>\n",
       "  </tbody>\n",
       "</table>\n",
       "</div>"
      ],
      "text/plain": [
       "                                                 Message  length country  \\\n",
       "id                                                                         \n",
       "10120                              Bugis oso near wat...    21.0      SG   \n",
       "10121  Go until jurong point, crazy.. Available only ...   111.0      SG   \n",
       "10122     I dunno until when... Lets go learn pilates...    46.0      SG   \n",
       "10123  Den only weekdays got special price... Haiz......   140.0      SG   \n",
       "10124                             Meet after lunch la...    22.0      SG   \n",
       "\n",
       "         Date                                      clean_message  \n",
       "id                                                                \n",
       "10120  2003/4                                 bugis oso near wat  \n",
       "10121  2003/4  go jurong point crazy available bugis n great ...  \n",
       "10122  2003/4                          dunno let go learn pilate  \n",
       "10123  2003/4  den weekday got special price haiz cant eat li...  \n",
       "10124  2003/4                                      meet lunch la  "
      ]
     },
     "execution_count": 108,
     "metadata": {},
     "output_type": "execute_result"
    }
   ],
   "source": [
    "df.head()"
   ]
  },
  {
   "cell_type": "markdown",
   "id": "7a9c1abf-a3ae-4f8d-9f19-4d9b3dc0c399",
   "metadata": {},
   "source": [
    "## Sentiment Analysis"
   ]
  },
  {
   "cell_type": "markdown",
   "id": "ece14e37-74a0-4a82-bf3d-bbaa80c011a4",
   "metadata": {},
   "source": [
    "### Prep work"
   ]
  },
  {
   "cell_type": "code",
   "execution_count": 109,
   "id": "4298a260-c110-4750-a1c8-10d01d34b03c",
   "metadata": {
    "tags": []
   },
   "outputs": [],
   "source": [
    "# Building a dataframe with positive messages, noted 1 in the sentiment column\n",
    "positive_df = pd.DataFrame(twitter_samples.strings('positive_tweets.json'), columns = ['Message'])\n",
    "positive_df['sentiment'] = 1"
   ]
  },
  {
   "cell_type": "code",
   "execution_count": 110,
   "id": "850047e1-3852-4291-9f4a-2051000e6f39",
   "metadata": {},
   "outputs": [],
   "source": [
    "# Building a dataframe with negative messages, noted 0 in the sentiment column\n",
    "negative_df = pd.DataFrame(twitter_samples.strings('negative_tweets.json'), columns = ['Message'])\n",
    "negative_df['sentiment'] = 0"
   ]
  },
  {
   "cell_type": "code",
   "execution_count": 111,
   "id": "5224e92f-9196-414e-869d-35b7c5539ca9",
   "metadata": {},
   "outputs": [],
   "source": [
    "# building a dataframe with all messages, and rearranging randomly the order of the rows\n",
    "tweet_df = pd.concat([positive_df,negative_df]).reset_index(drop = True).sample(frac=1)"
   ]
  },
  {
   "cell_type": "code",
   "execution_count": 112,
   "id": "b4db6023-5411-4a5d-ad8b-d607799c2271",
   "metadata": {},
   "outputs": [
    {
     "data": {
      "text/html": [
       "<div>\n",
       "<style scoped>\n",
       "    .dataframe tbody tr th:only-of-type {\n",
       "        vertical-align: middle;\n",
       "    }\n",
       "\n",
       "    .dataframe tbody tr th {\n",
       "        vertical-align: top;\n",
       "    }\n",
       "\n",
       "    .dataframe thead th {\n",
       "        text-align: right;\n",
       "    }\n",
       "</style>\n",
       "<table border=\"1\" class=\"dataframe\">\n",
       "  <thead>\n",
       "    <tr style=\"text-align: right;\">\n",
       "      <th></th>\n",
       "      <th>Message</th>\n",
       "      <th>sentiment</th>\n",
       "      <th>clean_message</th>\n",
       "    </tr>\n",
       "  </thead>\n",
       "  <tbody>\n",
       "    <tr>\n",
       "      <th>3845</th>\n",
       "      <td>@F41rygirl @paintingandbook You saying you wan...</td>\n",
       "      <td>1</td>\n",
       "      <td>paintingandbook saying want lucy gone soon lis...</td>\n",
       "    </tr>\n",
       "    <tr>\n",
       "      <th>4948</th>\n",
       "      <td>all i've done today is watch law &amp;amp; order: ...</td>\n",
       "      <td>1</td>\n",
       "      <td>done today watch law amp order svu love sick</td>\n",
       "    </tr>\n",
       "    <tr>\n",
       "      <th>8173</th>\n",
       "      <td>shakes my head repeatedly. nu-uh, jace, i love...</td>\n",
       "      <td>0</td>\n",
       "      <td>shake head repeatedly nu uh jace love mostest gt</td>\n",
       "    </tr>\n",
       "    <tr>\n",
       "      <th>3784</th>\n",
       "      <td>@susie299 gorgeous body :) wonder how close yo...</td>\n",
       "      <td>1</td>\n",
       "      <td>gorgeous body wonder close</td>\n",
       "    </tr>\n",
       "    <tr>\n",
       "      <th>7360</th>\n",
       "      <td>@sarahbournex me too :( determined not to feel...</td>\n",
       "      <td>0</td>\n",
       "      <td>sarahbournex determined feel ill tonight</td>\n",
       "    </tr>\n",
       "  </tbody>\n",
       "</table>\n",
       "</div>"
      ],
      "text/plain": [
       "                                                Message  sentiment  \\\n",
       "3845  @F41rygirl @paintingandbook You saying you wan...          1   \n",
       "4948  all i've done today is watch law &amp; order: ...          1   \n",
       "8173  shakes my head repeatedly. nu-uh, jace, i love...          0   \n",
       "3784  @susie299 gorgeous body :) wonder how close yo...          1   \n",
       "7360  @sarahbournex me too :( determined not to feel...          0   \n",
       "\n",
       "                                          clean_message  \n",
       "3845  paintingandbook saying want lucy gone soon lis...  \n",
       "4948       done today watch law amp order svu love sick  \n",
       "8173   shake head repeatedly nu uh jace love mostest gt  \n",
       "3784                         gorgeous body wonder close  \n",
       "7360           sarahbournex determined feel ill tonight  "
      ]
     },
     "execution_count": 112,
     "metadata": {},
     "output_type": "execute_result"
    }
   ],
   "source": [
    "#cleaning messages\n",
    "tweet_df['clean_message']=tweet_df['Message'].apply(clean_text)\n",
    "tweet_df.head()"
   ]
  },
  {
   "cell_type": "markdown",
   "id": "67d095a7-29de-4481-8818-3c4cdaa7a6de",
   "metadata": {},
   "source": [
    "### Training model"
   ]
  },
  {
   "cell_type": "code",
   "execution_count": 113,
   "id": "541557a6-bc94-4345-924b-5127240d7e01",
   "metadata": {},
   "outputs": [],
   "source": [
    "#creating a test and train sest to train a model\n",
    "X = tweet_df['clean_message']\n",
    "y = tweet_df['sentiment']\n",
    "X_train, X_test, y_train, y_test = \\\n",
    "    train_test_split(X, y, test_size=0.30)"
   ]
  },
  {
   "cell_type": "code",
   "execution_count": 114,
   "id": "e72e24f3-05e1-423f-b908-78709b0e7b6a",
   "metadata": {},
   "outputs": [
    {
     "data": {
      "text/plain": [
       "0.7463333333333333"
      ]
     },
     "execution_count": 114,
     "metadata": {},
     "output_type": "execute_result"
    }
   ],
   "source": [
    "from sklearn.naive_bayes import MultinomialNB\n",
    "from sklearn.feature_extraction.text import TfidfVectorizer\n",
    "\n",
    "vectorizer = TfidfVectorizer(max_df = 0.5)\n",
    "X_train_vec = vectorizer.fit_transform(X_train)\n",
    "X_test_vec = vectorizer.transform(X_test)\n",
    "\n",
    "\n",
    "nb_model = MultinomialNB(alpha = 1)\n",
    "results = cross_validate(nb_model, X_train_vec, y_train, cv=10)\n",
    "nb_model.fit(X_train_vec,y_train)\n",
    "nb_model.score(X_test_vec,y_test)"
   ]
  },
  {
   "cell_type": "code",
   "execution_count": 115,
   "id": "b140864f-1ff3-47b9-a443-fa495279407f",
   "metadata": {},
   "outputs": [
    {
     "data": {
      "text/plain": [
       "0.7464285714285714"
      ]
     },
     "execution_count": 115,
     "metadata": {},
     "output_type": "execute_result"
    }
   ],
   "source": [
    "results['test_score'].mean()"
   ]
  },
  {
   "cell_type": "code",
   "execution_count": 116,
   "id": "994ae24b-f81e-4f33-81de-2e975729c9b9",
   "metadata": {
    "tags": []
   },
   "outputs": [
    {
     "name": "stdout",
     "output_type": "stream",
     "text": [
      "Fitting 5 folds for each of 30 candidates, totalling 150 fits\n"
     ]
    },
    {
     "name": "stderr",
     "output_type": "stream",
     "text": [
      "[Parallel(n_jobs=-1)]: Using backend LokyBackend with 4 concurrent workers.\n",
      "[Parallel(n_jobs=-1)]: Done  42 tasks      | elapsed:    3.8s\n",
      "[Parallel(n_jobs=-1)]: Done 150 out of 150 | elapsed:    7.8s finished\n"
     ]
    },
    {
     "data": {
      "text/plain": [
       "{'nb__alpha': 1, 'tfidf__max_df': 0.5}"
      ]
     },
     "execution_count": 116,
     "metadata": {},
     "output_type": "execute_result"
    }
   ],
   "source": [
    "# Checking best params for our model\n",
    "\n",
    "from sklearn.model_selection import GridSearchCV\n",
    "from sklearn.pipeline import Pipeline\n",
    "from sklearn.feature_extraction.text import TfidfVectorizer\n",
    "from sklearn.naive_bayes import MultinomialNB\n",
    "\n",
    "# Create Pipeline\n",
    "pipeline = Pipeline([\n",
    "    ('tfidf', TfidfVectorizer()),\n",
    "    ('nb', MultinomialNB()),\n",
    "])\n",
    "\n",
    "# Set parameters to search\n",
    "parameters = {\n",
    "    'nb__alpha': (0,0.1,0.01,0.5,1),\n",
    "    'tfidf__max_df' : (0.01,0.05,0.1,0.5,0.7,1)\n",
    "}\n",
    "\n",
    "# Perform grid search\n",
    "grid_search = GridSearchCV(pipeline, parameters, n_jobs=-1, \n",
    "                           verbose=1, scoring = \"accuracy\", \n",
    "                           refit=True, cv=5)\n",
    "\n",
    "grid_search.fit(X_train,y_train)\n",
    "grid_search.best_params_"
   ]
  },
  {
   "cell_type": "markdown",
   "id": "6fe600bd-2f49-4834-abf0-f0562e757156",
   "metadata": {},
   "source": [
    "### Adding sentiment to DataFrame"
   ]
  },
  {
   "cell_type": "code",
   "execution_count": 117,
   "id": "0f3544b1-4f05-4567-8c6f-969f571025cc",
   "metadata": {},
   "outputs": [],
   "source": [
    "#addidng sentiment array\n",
    "df['sentiment'] = nb_model.predict(vectorizer.transform(df['Message']))"
   ]
  },
  {
   "cell_type": "code",
   "execution_count": 118,
   "id": "d401fb56-2d3d-413b-a32b-8bffb0633f0b",
   "metadata": {},
   "outputs": [
    {
     "data": {
      "text/plain": [
       "0    29398\n",
       "1    18843\n",
       "Name: sentiment, dtype: int64"
      ]
     },
     "execution_count": 118,
     "metadata": {},
     "output_type": "execute_result"
    }
   ],
   "source": [
    "df['sentiment'].value_counts()"
   ]
  },
  {
   "cell_type": "markdown",
   "id": "10a173f2-2b8e-4eba-bba5-70c6ed52d83c",
   "metadata": {},
   "source": [
    "### Sentiment by country"
   ]
  },
  {
   "cell_type": "code",
   "execution_count": 129,
   "id": "94c38803-0ac5-4f39-adc5-f9bd58e8384f",
   "metadata": {},
   "outputs": [
    {
     "data": {
      "text/html": [
       "<div>\n",
       "<style scoped>\n",
       "    .dataframe tbody tr th:only-of-type {\n",
       "        vertical-align: middle;\n",
       "    }\n",
       "\n",
       "    .dataframe tbody tr th {\n",
       "        vertical-align: top;\n",
       "    }\n",
       "\n",
       "    .dataframe thead th {\n",
       "        text-align: right;\n",
       "    }\n",
       "</style>\n",
       "<table border=\"1\" class=\"dataframe\">\n",
       "  <thead>\n",
       "    <tr style=\"text-align: right;\">\n",
       "      <th></th>\n",
       "      <th>length</th>\n",
       "      <th>sentiment</th>\n",
       "    </tr>\n",
       "    <tr>\n",
       "      <th>country</th>\n",
       "      <th></th>\n",
       "      <th></th>\n",
       "    </tr>\n",
       "  </thead>\n",
       "  <tbody>\n",
       "    <tr>\n",
       "      <th>Morocco</th>\n",
       "      <td>11.777778</td>\n",
       "      <td>0.666667</td>\n",
       "    </tr>\n",
       "    <tr>\n",
       "      <th>Turkey</th>\n",
       "      <td>24.200000</td>\n",
       "      <td>0.600000</td>\n",
       "    </tr>\n",
       "    <tr>\n",
       "      <th>Trinidad and Tobago</th>\n",
       "      <td>48.100000</td>\n",
       "      <td>0.600000</td>\n",
       "    </tr>\n",
       "    <tr>\n",
       "      <th>Spain</th>\n",
       "      <td>39.600000</td>\n",
       "      <td>0.600000</td>\n",
       "    </tr>\n",
       "    <tr>\n",
       "      <th>France</th>\n",
       "      <td>30.000000</td>\n",
       "      <td>0.600000</td>\n",
       "    </tr>\n",
       "    <tr>\n",
       "      <th>New Zealand</th>\n",
       "      <td>18.100000</td>\n",
       "      <td>0.600000</td>\n",
       "    </tr>\n",
       "    <tr>\n",
       "      <th>Nepal</th>\n",
       "      <td>18.435897</td>\n",
       "      <td>0.589744</td>\n",
       "    </tr>\n",
       "    <tr>\n",
       "      <th>Kenya</th>\n",
       "      <td>48.850000</td>\n",
       "      <td>0.550000</td>\n",
       "    </tr>\n",
       "    <tr>\n",
       "      <th>Pakistan</th>\n",
       "      <td>42.639232</td>\n",
       "      <td>0.537723</td>\n",
       "    </tr>\n",
       "    <tr>\n",
       "      <th>Serbia</th>\n",
       "      <td>25.000000</td>\n",
       "      <td>0.500000</td>\n",
       "    </tr>\n",
       "  </tbody>\n",
       "</table>\n",
       "</div>"
      ],
      "text/plain": [
       "                        length  sentiment\n",
       "country                                  \n",
       "Morocco              11.777778   0.666667\n",
       "Turkey               24.200000   0.600000\n",
       "Trinidad and Tobago  48.100000   0.600000\n",
       "Spain                39.600000   0.600000\n",
       "France               30.000000   0.600000\n",
       "New Zealand          18.100000   0.600000\n",
       "Nepal                18.435897   0.589744\n",
       "Kenya                48.850000   0.550000\n",
       "Pakistan             42.639232   0.537723\n",
       "Serbia               25.000000   0.500000"
      ]
     },
     "execution_count": 129,
     "metadata": {},
     "output_type": "execute_result"
    }
   ],
   "source": [
    "# 10 most positive countries\n",
    "df = df.replace({'country':{'SG':'Singapore', \n",
    "                            'USA':'United States',\n",
    "                            'india':'India',\n",
    "                            'INDIA':'India',\n",
    "                            'srilanka':'Sri Lanka',\n",
    "                            'UK':'United Kingdom',\n",
    "                            'BARBADOS':'Barbados',\n",
    "                            'jamaica':'Jamaica',\n",
    "                            'MY':'Malaysia',\n",
    "                            'unknown':'Unknown'}})\n",
    "\n",
    "df.groupby('country').mean().sort_values('sentiment',ascending=False).head(10)"
   ]
  },
  {
   "cell_type": "markdown",
   "id": "20a88e3b-8e30-4c2a-81f4-6dd3ab1bb826",
   "metadata": {
    "jp-MarkdownHeadingCollapsed": true,
    "tags": []
   },
   "source": [
    "## Most common Topic"
   ]
  },
  {
   "cell_type": "code",
   "execution_count": 132,
   "id": "2cda738f-2334-4234-8891-da613612da83",
   "metadata": {},
   "outputs": [
    {
     "name": "stdout",
     "output_type": "stream",
     "text": [
      "Topic 0:\n",
      "[('haha', 1412.1310350938113), ('be', 1148.683638542199), ('lol', 1122.6874936425436), ('ok', 1032.390211702745), ('got', 722.4759650575284)]\n",
      "Topic 1:\n",
      "[('can', 1925.6083766359784), ('le', 671.0568875802817), ('he', 621.39273848283), ('go', 598.4296335881584), ('haha', 589.3487747071433)]\n"
     ]
    }
   ],
   "source": [
    "from sklearn.decomposition import LatentDirichletAllocation\n",
    "\n",
    "lda_model = LatentDirichletAllocation(n_components=2).fit(vectorizer.transform(df['Message']))\n",
    "\n",
    "def print_topics(model, vectorizer):\n",
    "    for idx, topic in enumerate(model.components_):\n",
    "        print(\"Topic %d:\" % (idx))\n",
    "        print([(vectorizer.get_feature_names()[i], topic[i])\n",
    "                        for i in topic.argsort()[:-5 - 1:-1]])\n",
    "        \n",
    "\n",
    "print_topics(lda_model, vectorizer)\n"
   ]
  },
  {
   "cell_type": "markdown",
   "id": "1e8e9241-c555-4b49-bb56-112019d7fa78",
   "metadata": {},
   "source": [
    "## Use POS tagging to find commonly used phrases"
   ]
  },
  {
   "cell_type": "code",
   "execution_count": null,
   "id": "3d11ec1a-431f-4de3-84e0-1a70ba08b05f",
   "metadata": {},
   "outputs": [],
   "source": []
  }
 ],
 "metadata": {
  "kernelspec": {
   "display_name": "Python 3 (ipykernel)",
   "language": "python",
   "name": "python3"
  },
  "language_info": {
   "codemirror_mode": {
    "name": "ipython",
    "version": 3
   },
   "file_extension": ".py",
   "mimetype": "text/x-python",
   "name": "python",
   "nbconvert_exporter": "python",
   "pygments_lexer": "ipython3",
   "version": "3.8.12"
  }
 },
 "nbformat": 4,
 "nbformat_minor": 5
}
